{
 "cells": [
  {
   "cell_type": "markdown",
   "metadata": {},
   "source": [
    "# Writing a function about brain functions\n",
    "\n",
    "In this Jupyter Notebook you will write a function that takes a phrase as input and returns the regions of the brain that are used to accomplish the actions in the phrase."
   ]
  },
  {
   "cell_type": "markdown",
   "metadata": {},
   "source": [
    "### Step 1: Format the data\n",
    "Here are the brain regions:\n",
    "- Frontal Lobe\n",
    "- Temporal Lobe\n",
    "- Parietal Lobe\n",
    "- Occipital Lobe\n",
    "- Cerebellum\n",
    "- Brain Stem\n",
    "\n",
    "Here are the actions:\n",
    "- looking\n",
    "- touching\n",
    "- seeing\n",
    "- thinking\n",
    "- hearing\n",
    "- breathing\n",
    "- moving\n",
    "- listening\n",
    "- walking\n",
    "- saying\n",
    "- understanding\n",
    "- balancing\n",
    "- remembering\n",
    "\n",
    "Talk to your tablemates about how you should arrange this data. Decide which data type is the best fit to help you store this data in a way that will be useful for your function. Write the code to store the data here: "
   ]
  },
  {
   "cell_type": "code",
   "execution_count": 2,
   "metadata": {},
   "outputs": [],
   "source": [
    "dict_brain = {\"looking\":\"occipial lobe\", \"touching\":\"parietal lobe\", \"seeing\":\"occipital lobe\", \"thinking\":\"pariental lobe\",\n",
    "              \"hearing\":\"temporal lobe\", \"breathing\":\"brainstem\", \"moving\":\"frontal lobe\", \"listening\":\"temporal lobe\",\n",
    "              \"walking\":\"frontal lobe\", \"saying\":\"frontal lobe\", \"understanding\":\"frontal lobe\", \"balancing\":\"cerebellum\",\n",
    "              \"remembering\":\"temporal lobe\"}"
   ]
  },
  {
   "cell_type": "markdown",
   "metadata": {},
   "source": [
    "### Step 2: Write your function:\n",
    "Now that your data is formatted, you can create a function that takes one of the following phrases as an input and returns all the brain regions needed to accomplish the actions in the phrase.\n",
    "\n",
    "Phrases:\n",
    "- \"looking at a beautiful painting\"\n",
    "- \"walking home while listening to music\"\n",
    "- \"touching a ripe avocado and saying: Perfect!\"\n",
    "- \"hearing your friend call your name and moving to look at them\"\n",
    "- \"breathing deeply while balancing during a yoga class\"\n",
    "- \"remembering the first day of school\"\n",
    "- \"seeing a cute dog and thinking about petting it\"\n",
    "- \"understanding a complicated idea\"\n",
    "\n",
    "Hint: You will need to use the str.split() function which takes a string and turns it into a list of all the words in that string"
   ]
  },
  {
   "cell_type": "code",
   "execution_count": 13,
   "metadata": {},
   "outputs": [],
   "source": [
    "def rob_func(phrase):\n",
    "    split_phrase = phrase.split()\n",
    "    regions = []\n",
    "    for i in split_phrase:\n",
    "        if i in dict_brain:\n",
    "            regions.append(dict_brain[i])\n",
    "        \n",
    "    return regions\n",
    "            "
   ]
  },
  {
   "cell_type": "markdown",
   "metadata": {},
   "source": [
    "### Step 3: Call your function:\n",
    "Call your function for each of the phrases above:"
   ]
  },
  {
   "cell_type": "code",
   "execution_count": 16,
   "metadata": {},
   "outputs": [
    {
     "name": "stdout",
     "output_type": "stream",
     "text": [
      "['parietal lobe', 'frontal lobe']\n",
      "['brainstem', 'cerebellum']\n"
     ]
    }
   ],
   "source": [
    "print(rob_func(\"touching a ripe avocado and saying Perfect!\"))\n",
    "print(rob_func(\"breathing deeply while balancing during a yoga class\"))"
   ]
  },
  {
   "cell_type": "markdown",
   "metadata": {},
   "source": [
    "### Bonus Challenge\n",
    "Make up your own phrases and try calling your function on them!"
   ]
  },
  {
   "cell_type": "code",
   "execution_count": null,
   "metadata": {
    "collapsed": true
   },
   "outputs": [],
   "source": []
  }
 ],
 "metadata": {
  "kernelspec": {
   "display_name": "Python 3",
   "language": "python",
   "name": "python3"
  },
  "language_info": {
   "codemirror_mode": {
    "name": "ipython",
    "version": 3
   },
   "file_extension": ".py",
   "mimetype": "text/x-python",
   "name": "python",
   "nbconvert_exporter": "python",
   "pygments_lexer": "ipython3",
   "version": "3.7.3"
  }
 },
 "nbformat": 4,
 "nbformat_minor": 2
}
