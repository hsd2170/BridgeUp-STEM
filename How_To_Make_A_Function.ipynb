{
 "cells": [
  {
   "cell_type": "code",
   "execution_count": 21,
   "metadata": {},
   "outputs": [],
   "source": [
    "# to make a function use def, ends with return\n",
    "# obj is the argument\n",
    "# 1. what does it do? 2. what are the arguments? 3. How does it do this? 4. What does it return?\n",
    "def myLen(obj):\n",
    "    c = 0\n",
    "    for i in obj:\n",
    "        c += 1\n",
    "    return c"
   ]
  },
  {
   "cell_type": "code",
   "execution_count": 22,
   "metadata": {},
   "outputs": [
    {
     "name": "stdout",
     "output_type": "stream",
     "text": [
      "6\n",
      "6\n"
     ]
    }
   ],
   "source": [
    "myList = [2, 5, 27, 35, 4, 7]\n",
    "# test to see if they print out the same thing\n",
    "print(len(myList))\n",
    "print(myLen(myList))"
   ]
  },
  {
   "cell_type": "code",
   "execution_count": 23,
   "metadata": {},
   "outputs": [],
   "source": [
    "def addSum(num1, num2): # need two arguments\n",
    "    num1+num2\n",
    "    numSum = num1+num2\n",
    "    return numSum"
   ]
  },
  {
   "cell_type": "code",
   "execution_count": 24,
   "metadata": {},
   "outputs": [
    {
     "name": "stdout",
     "output_type": "stream",
     "text": [
      "132\n"
     ]
    }
   ],
   "source": [
    "print(addSum(35, 97))"
   ]
  },
  {
   "cell_type": "code",
   "execution_count": 25,
   "metadata": {},
   "outputs": [],
   "source": [
    "# trascribe function\n",
    "def transcribe(DNA):\n",
    "    RNA = \"\"\n",
    "    for i in DNA:\n",
    "        if i == \"T\":\n",
    "            RNA += \"A\"\n",
    "        elif i == \"A\":\n",
    "            RNA += \"U\"\n",
    "        elif i == \"C\":\n",
    "            RNA += \"G\"\n",
    "        else:\n",
    "            RNA += \"C\"\n",
    "    return RNA\n",
    "        \n"
   ]
  },
  {
   "cell_type": "code",
   "execution_count": 26,
   "metadata": {},
   "outputs": [
    {
     "name": "stdout",
     "output_type": "stream",
     "text": [
      "UAGCACGUACGCUAUCGUCAUCGUC\n"
     ]
    }
   ],
   "source": [
    "myDNA = \"ATCGTGCATGCGATAGCAGTAGCAG\"\n",
    "print(transcribe(myDNA))"
   ]
  },
  {
   "cell_type": "code",
   "execution_count": 27,
   "metadata": {},
   "outputs": [],
   "source": [
    "# trasnlate function\n",
    "def translate(RNA):\n",
    "    codonDict = {\"UUU\":\"F\",\"UUC\":\"F\",\"UUA\":\"L\",\"UUG\":\"L\", \"CUU\":\"L\",\"CUC\":\"L\", \n",
    "             \"CUA\":\"L\",\"CUG\":\"L\",\"AUU\":\"I\",\"AUC\":\"I\",\"AUA\":\"I\",\"AUG\":\"M\",\n",
    "             \"GUU\":\"V\",\"GUC\":\"V\",\"GUA\":\"V\",\"GUG\":\"V\",\"UCU\":\"S\",\"UCC\":\"S\",\n",
    "             \"UCA\":\"S\",\"UCG\":\"S\",\"CCU\":\"P\",\"CCC\":\"P\",\"CCA\":\"P\",\"CCG\":\"P\",\n",
    "             \"ACU\":\"T\",\"ACC\":\"T\",\"ACA\":\"T\",\"ACG\":\"T\",\"GCU\":\"A\",\"GCC\":\"A\",\n",
    "             \"GCA\":\"A\",\"GCG\":\"A\",\"UAU\":\"Y\",\"UAC\":\"Y\",\"UAA\":\"STOP\",\"UAG\":\"STOP\",\n",
    "             \"UGA\":\"STOP\",\"CAU\":\"H\",\"CAC\":\"H\",\"CAA\":\"Q\",\"CAG\":\"Q\",\"AAU\":\"N\",\n",
    "             \"AAC\":\"N\",\"AAA\":\"K\",\"AAG\":\"K\",\"GAU\":\"D\",\"GAC\":\"D\",\"GAA\":\"E\",\n",
    "             \"GAG\":\"E\",\"UGU\":\"C\",\"UGC\":\"C\",\"UGG\":\"W\",\"CGU\":\"R\",\"CGC\":\"R\",\n",
    "             \"CGA\":\"R\",\"CGG\":\"R\",\"AGU\":\"S\",\"AGC\":\"S\",\"AGA\":\"R\",\"AGG\":\"R\",\n",
    "             \"GGU\":\"G\",\"GGC\":\"G\",\"GGA\":\"G\",\"GGG\":\"G\"}\n",
    "    protein = \"\"\n",
    "    codon = \"\"\n",
    "    for i in RNA:\n",
    "        if len(codon) !=3:\n",
    "            codon += i\n",
    "        if len(codon) == 3:\n",
    "            protein += codonDict[codon]\n",
    "            codon = \"\"\n",
    "    return protein\n",
    "\n"
   ]
  },
  {
   "cell_type": "code",
   "execution_count": 28,
   "metadata": {},
   "outputs": [
    {
     "name": "stdout",
     "output_type": "stream",
     "text": [
      "IVRSITGSTOPTSTOP\n"
     ]
    }
   ],
   "source": [
    "RNA = \"AUCGUACGAUCGAUUACGGGCUAGACGUAGCU\"\n",
    "print(translate(RNA))"
   ]
  },
  {
   "cell_type": "code",
   "execution_count": 35,
   "metadata": {},
   "outputs": [],
   "source": [
    "# this code only works when lists are the same length\n",
    "def diff_counter(seq1, seq2):\n",
    "    diffCounter = 0\n",
    "    for c, i in enumerate(seq1):\n",
    "        if i != seq2[c]:\n",
    "            diffCounter += 1\n",
    "    return diffCounter/len(seq1)*100"
   ]
  },
  {
   "cell_type": "code",
   "execution_count": 36,
   "metadata": {},
   "outputs": [],
   "source": [
    "list1 = [\"a\", \"b\", \"c\", \"d\"]\n",
    "list2 = [\"a\", \"b\", \"d\", \"e\"]"
   ]
  },
  {
   "cell_type": "code",
   "execution_count": 37,
   "metadata": {},
   "outputs": [
    {
     "data": {
      "text/plain": [
       "50.0"
      ]
     },
     "execution_count": 37,
     "metadata": {},
     "output_type": "execute_result"
    }
   ],
   "source": [
    "diff_counter(list1, list2)"
   ]
  },
  {
   "cell_type": "code",
   "execution_count": null,
   "metadata": {},
   "outputs": [],
   "source": []
  }
 ],
 "metadata": {
  "kernelspec": {
   "display_name": "Python 3",
   "language": "python",
   "name": "python3"
  },
  "language_info": {
   "codemirror_mode": {
    "name": "ipython",
    "version": 3
   },
   "file_extension": ".py",
   "mimetype": "text/x-python",
   "name": "python",
   "nbconvert_exporter": "python",
   "pygments_lexer": "ipython3",
   "version": "3.7.3"
  }
 },
 "nbformat": 4,
 "nbformat_minor": 2
}
