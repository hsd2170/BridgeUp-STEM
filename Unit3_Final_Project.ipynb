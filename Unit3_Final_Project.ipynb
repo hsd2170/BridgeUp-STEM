{
 "cells": [
  {
   "cell_type": "markdown",
   "metadata": {},
   "source": [
    "## Step 1: Make sure you know who the typing partner and the guiding partner are.\n",
    "Open the DNA sequence files for the two butterflies that you picked. Read them in as strings, and assign them to variables:"
   ]
  },
  {
   "cell_type": "code",
   "execution_count": 3,
   "metadata": {},
   "outputs": [],
   "source": [
    "Manatee_DNA = open(\"Manatee_DNA.txt\").read()\n",
    "Dolphin_DNA = open(\"Dolphin_DNA.txt\").read()\n",
    "Cattle_DNA = open(\"Cattle_DNA.txt\").read()\n"
   ]
  },
  {
   "cell_type": "code",
   "execution_count": 4,
   "metadata": {},
   "outputs": [
    {
     "name": "stdout",
     "output_type": "stream",
     "text": [
      "398\n",
      "390\n",
      "116\n",
      "624\n",
      "624\n"
     ]
    }
   ],
   "source": [
    "diff_counter = 0\n",
    "for c, i in enumerate(Manatee_DNA):\n",
    "    if i != Dolphin_DNA[c]:\n",
    "        diff_counter += 1\n",
    "print(diff_counter)\n",
    "\n",
    "diff_counter2 = 0\n",
    "for c, i in enumerate(Manatee_DNA):\n",
    "    if i != Cattle_DNA[c]:\n",
    "        diff_counter2 += 1\n",
    "print(diff_counter2)\n",
    "\n",
    "diff_counter3 = 0\n",
    "for c, i in enumerate(Cattle_DNA):\n",
    "    if i != Dolphin_DNA[c]:\n",
    "        diff_counter3 += 1\n",
    "print(diff_counter3)\n",
    "\n",
    "print(len(Manatee_DNA))\n",
    "print(len(Cattle_DNA))"
   ]
  },
  {
   "cell_type": "code",
   "execution_count": 5,
   "metadata": {},
   "outputs": [
    {
     "name": "stdout",
     "output_type": "stream",
     "text": [
      "63.78205128205128\n",
      "62.5\n",
      "18.58974358974359\n"
     ]
    }
   ],
   "source": [
    "percent_ManDol = 398/len(Manatee_DNA)*100\n",
    "percent_ManCa = 390/len(Manatee_DNA)*100\n",
    "percent_CaDol = 116/len(Cattle_DNA)*100\n",
    "\n",
    "print(percent_ManDol)\n",
    "print(percent_ManCa)\n",
    "print(percent_CaDol)\n"
   ]
  },
  {
   "cell_type": "code",
   "execution_count": 6,
   "metadata": {},
   "outputs": [],
   "source": [
    "import matplotlib.pyplot as plt\n",
    "import numpy as np"
   ]
  },
  {
   "cell_type": "code",
   "execution_count": 17,
   "metadata": {},
   "outputs": [
    {
     "data": {
      "image/png": "[encoded data removed]",
      "text/plain": [
       "<Figure size 432x288 with 1 Axes>"
      ]
     },
     "metadata": {
      "needs_background": "light"
     },
     "output_type": "display_data"
    }
   ],
   "source": [
    "plt.bar([1,2,3], [percent_ManDol, percent_ManCa, percent_CaDol], color = [\"teal\",\"darkturquoise\", \"magenta\"])\n",
    "plt.xticks([1,2,3], [\"Manatee and Dolphin\", \"Manatee and Cow\", \"Cow and Dolphin\"])\n",
    "plt.title(\"Percent Difference of DNA of a Cow, Dolphin, and Manatee\")\n",
    "plt.ylabel(\"Percent Different\")\n",
    "plt.show()"
   ]
  },
  {
   "cell_type": "code",
   "execution_count": 18,
   "metadata": {},
   "outputs": [],
   "source": [
    "Manatee_RNA = \"\"\n",
    "for i in Manatee_DNA:\n",
    "    if i == \"T\":\n",
    "        Manatee_RNA += \"A\"\n",
    "    elif i == \"A\":\n",
    "        Manatee_RNA += \"U\"\n",
    "    elif i == \"C\":\n",
    "        Manatee_RNA += \"G\"\n",
    "    else:\n",
    "        Manatee_RNA += \"C\"\n",
    "        \n",
    "Cattle_RNA = \"\"\n",
    "for i in Cattle_DNA:\n",
    "    if i == \"T\":\n",
    "        Cattle_RNA += \"A\"\n",
    "    elif i == \"A\":\n",
    "        Cattle_RNA += \"U\"\n",
    "    elif i == \"C\":\n",
    "        Cattle_RNA += \"G\"\n",
    "    else:\n",
    "        Cattle_RNA += \"C\"\n",
    "        \n",
    "Dolphin_RNA = \"\"\n",
    "for i in Dolphin_DNA:\n",
    "    if i == \"T\":\n",
    "        Dolphin_RNA += \"A\"\n",
    "    elif i == \"A\":\n",
    "        Dolphin_RNA += \"U\"\n",
    "    elif i == \"C\":\n",
    "        Dolphin_RNA += \"G\"\n",
    "    else:\n",
    "        Dolphin_RNA += \"C\"\n"
   ]
  },
  {
   "cell_type": "code",
   "execution_count": 19,
   "metadata": {},
   "outputs": [],
   "source": [
    "codonDict = {\"UUU\":\"F\",\"UUC\":\"F\",\"UUA\":\"L\",\"UUG\":\"L\", \"CUU\":\"L\",\"CUC\":\"L\", \n",
    "             \"CUA\":\"L\",\"CUG\":\"L\",\"AUU\":\"I\",\"AUC\":\"I\",\"AUA\":\"I\",\"AUG\":\"M\",\n",
    "             \"GUU\":\"V\",\"GUC\":\"V\",\"GUA\":\"V\",\"GUG\":\"V\",\"UCU\":\"S\",\"UCC\":\"S\",\n",
    "             \"UCA\":\"S\",\"UCG\":\"S\",\"CCU\":\"P\",\"CCC\":\"P\",\"CCA\":\"P\",\"CCG\":\"P\",\n",
    "             \"ACU\":\"T\",\"ACC\":\"T\",\"ACA\":\"T\",\"ACG\":\"T\",\"GCU\":\"A\",\"GCC\":\"A\",\n",
    "             \"GCA\":\"A\",\"GCG\":\"A\",\"UAU\":\"Y\",\"UAC\":\"Y\",\"UAA\":\"STOP\",\"UAG\":\"STOP\",\n",
    "             \"UGA\":\"STOP\",\"CAU\":\"H\",\"CAC\":\"H\",\"CAA\":\"Q\",\"CAG\":\"Q\",\"AAU\":\"N\",\n",
    "             \"AAC\":\"N\",\"AAA\":\"K\",\"AAG\":\"K\",\"GAU\":\"D\",\"GAC\":\"D\",\"GAA\":\"E\",\n",
    "             \"GAG\":\"E\",\"UGU\":\"C\",\"UGC\":\"C\",\"UGG\":\"W\",\"CGU\":\"R\",\"CGC\":\"R\",\n",
    "             \"CGA\":\"R\",\"CGG\":\"R\",\"AGU\":\"S\",\"AGC\":\"S\",\"AGA\":\"R\",\"AGG\":\"R\",\n",
    "             \"GGU\":\"G\",\"GGC\":\"G\",\"GGA\":\"G\",\"GGG\":\"G\"}\n",
    "\n",
    "protein_Manatee = \"\"\n",
    "codon = \"\"\n",
    "\n",
    "for i in Manatee_RNA:\n",
    "    if len(codon) !=3:\n",
    "        codon += i\n",
    "    if len(codon) == 3:\n",
    "        protein_Manatee += codonDict[codon]\n",
    "        codon = \"\"\n",
    "\n",
    "protein_Cattle = \"\"\n",
    "codon_Cattle = \"\"\n",
    "\n",
    "for i in Cattle_RNA:\n",
    "    if len(codon_Cattle) !=3:\n",
    "        codon_Cattle += i\n",
    "    if len(codon_Cattle) == 3:\n",
    "        protein_Cattle += codonDict[codon_Cattle]\n",
    "        codon_Cattle = \"\"\n",
    "        \n",
    "protein_Dolphin = \"\"\n",
    "codon_Dolphin = \"\"\n",
    "\n",
    "for i in Dolphin_RNA:\n",
    "    if len(codon_Dolphin) !=3:\n",
    "        codon_Dolphin += i\n",
    "    if len(codon_Dolphin) == 3:\n",
    "        protein_Dolphin += codonDict[codon_Dolphin]\n",
    "        codon_Dolphin = \"\""
   ]
  },
  {
   "cell_type": "code",
   "execution_count": 20,
   "metadata": {},
   "outputs": [
    {
     "name": "stdout",
     "output_type": "stream",
     "text": [
      "MKVLILACLVALALAREKEDTVSTKSVDYFSSSEESVTQIDKQKSERVRPEEQQREDECQDKIQPLFQLQPLVYPYAEPIPYTVVPSSAMPPAQPVVVLPFLQPEIMEFPEAKETIFPRQKVMSFLKSPIISPVDPQILYLTNPENFHLPLPLLQPLRHQLHQPLAQTPVLPSLSLPKVLPVPQEGIPYAQRGIPIQEPLLDPVRVFH\n",
      "MKVLILACLVALALARELEELNVPGEIVESLSSSEESITRINKKIEKFQSEEQQQTEDELQDKIHPFAQTQSLVYPFPGPIPNSLPQNIPPLTQTPVVVPPFLQPEVLGVSKVKEAMAPKHKEMPFPKYPVEPFTESQSLTLTDVENLHLPPLLLQSWMHQPHQPLPPTVMFPPQSVLSLSQSKVLPVPQKAVPYPQRDMPIQAFLLY\n",
      "MKVLILACLLALALAREKEELNVSGETVKSLSSSEEFVTHINKKIGKFKHEEQQQTEDEPQDKIHHFSQPQPLVYSYTGPIPYPILRQNILPLAQPPVVVPFSQPEIMEVPKAKETILPKHKEIPFPKSPVERFIESQSLTLTDLENLHLPLPLLESLMHQPPHPLPPTPMFPPQPLQSLSQHKVLPIPQQVVPYLQRDMPIQALLLY\n"
     ]
    }
   ],
   "source": [
    "print(protein_Manatee)\n",
    "print(protein_Cattle)\n",
    "print(protein_Dolphin)\n"
   ]
  },
  {
   "cell_type": "code",
   "execution_count": 24,
   "metadata": {
    "scrolled": true
   },
   "outputs": [
    {
     "name": "stdout",
     "output_type": "stream",
     "text": [
      "175\n",
      "167\n",
      "64\n"
     ]
    }
   ],
   "source": [
    "diff_counter2 = 0\n",
    "for c, i in enumerate(protein_Manatee):\n",
    "    if i != protein_Dolphin[c]:\n",
    "        diff_counter2 += 1\n",
    "print(diff_counter2)\n",
    "\n",
    "diff_counter4 = 0\n",
    "for c, i in enumerate(protein_Manatee):\n",
    "    if i != protein_Cattle[c]:\n",
    "        diff_counter4 += 1\n",
    "print(diff_counter4)\n",
    "\n",
    "diff_counter3 = 0\n",
    "for c, i in enumerate(protein_Cattle):\n",
    "    if i != protein_Dolphin[c]:\n",
    "        diff_counter3 += 1\n",
    "print(diff_counter3)\n",
    "\n",
    "def diff_counter(seq1, seq2):\n",
    "    diffCounter = 0\n",
    "    for c, i in enumerate(seq1):\n",
    "        if i != seq2[c]:\n",
    "            diffCounter += 1\n",
    "    return diffCounter/len(seq1)*100\n"
   ]
  },
  {
   "cell_type": "code",
   "execution_count": 27,
   "metadata": {},
   "outputs": [
    {
     "data": {
      "text/plain": [
       "30.76923076923077"
      ]
     },
     "execution_count": 27,
     "metadata": {},
     "output_type": "execute_result"
    }
   ],
   "source": [
    "diff_counter(protein_Manatee, protein_Dolphin)\n",
    "diff_counter(protein_Manatee, protein_Cattle)\n",
    "diff_counter(protein_Cattle, protein_Dolphin)"
   ]
  },
  {
   "cell_type": "code",
   "execution_count": null,
   "metadata": {},
   "outputs": [],
   "source": []
  }
 ],
 "metadata": {
  "kernelspec": {
   "display_name": "Python 3",
   "language": "python",
   "name": "python3"
  },
  "language_info": {
   "codemirror_mode": {
    "name": "ipython",
    "version": 3
   },
   "file_extension": ".py",
   "mimetype": "text/x-python",
   "name": "python",
   "nbconvert_exporter": "python",
   "pygments_lexer": "ipython3",
   "version": "3.7.3"
  }
 },
 "nbformat": 4,
 "nbformat_minor": 2
}
