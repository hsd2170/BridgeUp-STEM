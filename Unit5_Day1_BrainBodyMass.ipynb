{
 "cells": [
  {
   "cell_type": "markdown",
   "metadata": {},
   "source": [
    "# Comparing brain to body mass ratios\n",
    "\n",
    "In this Jupyter Notebook you will write a function that takes a data frame and two column names and returns the average brain to body mass ratio for a given type of animal. Let's find out how smart animals are!"
   ]
  },
  {
   "cell_type": "markdown",
   "metadata": {},
   "source": [
    "Import the pandas library. We're going to need it!"
   ]
  },
  {
   "cell_type": "code",
   "execution_count": 47,
   "metadata": {},
   "outputs": [],
   "source": [
    "import pandas as pd\n",
    "import matplotlib.pyplot as plt"
   ]
  },
  {
   "cell_type": "markdown",
   "metadata": {},
   "source": [
    "Now create a data frame for the kind of animal that you worked with earlier today:\n",
    "\n",
    "**Note: We will be making more data frames later, so you should create a more specific variable than \"df\"**"
   ]
  },
  {
   "cell_type": "code",
   "execution_count": 48,
   "metadata": {},
   "outputs": [],
   "source": [
    "df_amp = pd.read_csv(\"amphibian_body_brain_mass.csv\")"
   ]
  },
  {
   "cell_type": "markdown",
   "metadata": {},
   "source": [
    "Find the header for this data frame:"
   ]
  },
  {
   "cell_type": "code",
   "execution_count": 49,
   "metadata": {},
   "outputs": [
    {
     "data": {
      "text/html": [
       "<div>\n",
       "<style scoped>\n",
       "    .dataframe tbody tr th:only-of-type {\n",
       "        vertical-align: middle;\n",
       "    }\n",
       "\n",
       "    .dataframe tbody tr th {\n",
       "        vertical-align: top;\n",
       "    }\n",
       "\n",
       "    .dataframe thead th {\n",
       "        text-align: right;\n",
       "    }\n",
       "</style>\n",
       "<table border=\"1\" class=\"dataframe\">\n",
       "  <thead>\n",
       "    <tr style=\"text-align: right;\">\n",
       "      <th></th>\n",
       "      <th>Genus</th>\n",
       "      <th>Species</th>\n",
       "      <th>Body weight (g)</th>\n",
       "      <th>Brain weight (g)</th>\n",
       "      <th>Brain volume (mm3)</th>\n",
       "    </tr>\n",
       "  </thead>\n",
       "  <tbody>\n",
       "    <tr>\n",
       "      <th>0</th>\n",
       "      <td>Alytes</td>\n",
       "      <td>obstetricans</td>\n",
       "      <td>7.7000</td>\n",
       "      <td>0.04100</td>\n",
       "      <td>NaN</td>\n",
       "    </tr>\n",
       "    <tr>\n",
       "      <th>1</th>\n",
       "      <td>Bombina</td>\n",
       "      <td>maxima</td>\n",
       "      <td>18.5439</td>\n",
       "      <td>0.04530</td>\n",
       "      <td>22.00</td>\n",
       "    </tr>\n",
       "    <tr>\n",
       "      <th>2</th>\n",
       "      <td>Bombina</td>\n",
       "      <td>maxima</td>\n",
       "      <td>11.7013</td>\n",
       "      <td>0.05298</td>\n",
       "      <td>26.80</td>\n",
       "    </tr>\n",
       "    <tr>\n",
       "      <th>3</th>\n",
       "      <td>Bombina</td>\n",
       "      <td>maxima</td>\n",
       "      <td>22.4508</td>\n",
       "      <td>0.05870</td>\n",
       "      <td>29.87</td>\n",
       "    </tr>\n",
       "    <tr>\n",
       "      <th>4</th>\n",
       "      <td>Bombina</td>\n",
       "      <td>maxima</td>\n",
       "      <td>23.5498</td>\n",
       "      <td>0.03380</td>\n",
       "      <td>NaN</td>\n",
       "    </tr>\n",
       "  </tbody>\n",
       "</table>\n",
       "</div>"
      ],
      "text/plain": [
       "     Genus       Species  Body weight (g)  Brain weight (g)  \\\n",
       "0   Alytes  obstetricans           7.7000           0.04100   \n",
       "1  Bombina        maxima          18.5439           0.04530   \n",
       "2  Bombina        maxima          11.7013           0.05298   \n",
       "3  Bombina        maxima          22.4508           0.05870   \n",
       "4  Bombina        maxima          23.5498           0.03380   \n",
       "\n",
       "   Brain volume (mm3)  \n",
       "0                 NaN  \n",
       "1               22.00  \n",
       "2               26.80  \n",
       "3               29.87  \n",
       "4                 NaN  "
      ]
     },
     "execution_count": 49,
     "metadata": {},
     "output_type": "execute_result"
    }
   ],
   "source": [
    "df_amp.head()"
   ]
  },
  {
   "cell_type": "markdown",
   "metadata": {},
   "source": [
    "Find the number of rows in this data frame:"
   ]
  },
  {
   "cell_type": "code",
   "execution_count": 50,
   "metadata": {},
   "outputs": [
    {
     "data": {
      "text/plain": [
       "514"
      ]
     },
     "execution_count": 50,
     "metadata": {},
     "output_type": "execute_result"
    }
   ],
   "source": [
    "len(df_amp)"
   ]
  },
  {
   "cell_type": "markdown",
   "metadata": {},
   "source": [
    "## Making a function"
   ]
  },
  {
   "cell_type": "markdown",
   "metadata": {},
   "source": [
    "Now it's time to make our function! You want to write a function that takes the name of the dataframe and the name of two columns and returns the average brain to body mass ratio. \n",
    "\n",
    "Remember: a brain to body mass ratio is simply the brain mass divided by the body mass\n",
    "\n",
    "It's probably a good idea to start with pseudocode!"
   ]
  },
  {
   "cell_type": "code",
   "execution_count": 51,
   "metadata": {},
   "outputs": [],
   "source": [
    "def bbmass(data, brain, body):\n",
    "    ratio = data[brain]/data[body]\n",
    "    return ratio.mean()\n",
    "    \n",
    "    \n"
   ]
  },
  {
   "cell_type": "code",
   "execution_count": 52,
   "metadata": {},
   "outputs": [],
   "source": [
    "amp_ratio = bbmass(df_amp, \"Brain weight (g)\", \"Body weight (g)\")"
   ]
  },
  {
   "cell_type": "markdown",
   "metadata": {},
   "source": [
    "Now read the other csv files into data frames and call your function for all of them:"
   ]
  },
  {
   "cell_type": "code",
   "execution_count": 53,
   "metadata": {},
   "outputs": [],
   "source": [
    "df_rep = pd.read_csv(\"reptile_body_brain_mass.csv\")\n",
    "df_rep.head()\n",
    "rep_ratio = bbmass(df_rep, \"Brain weight (g)\", \"Body weight (g)\")"
   ]
  },
  {
   "cell_type": "code",
   "execution_count": 54,
   "metadata": {},
   "outputs": [],
   "source": [
    "df_mam = pd.read_csv(\"mammal_body_brain_mass.csv\")\n",
    "df_mam.head()\n",
    "mam_ratio = bbmass(df_mam, \"Brain mass (g)\", \"Body mass (g)\")"
   ]
  },
  {
   "cell_type": "code",
   "execution_count": 55,
   "metadata": {},
   "outputs": [],
   "source": [
    "df_fish = pd.read_csv(\"fish_body_brain_mass.csv\")\n",
    "df_fish.head()\n",
    "fish_ratio = bbmass(df_fish, \"Brain weight (g)\", \"Body weight (g)\")"
   ]
  },
  {
   "cell_type": "code",
   "execution_count": 56,
   "metadata": {},
   "outputs": [],
   "source": [
    "df_bird = pd.read_csv(\"bird_body_brain_mass.csv\")\n",
    "df_bird.head()\n",
    "bird_ratio = bbmass(df_bird, \"Brain mass (g)\", \"Body mass (g)\")"
   ]
  },
  {
   "cell_type": "markdown",
   "metadata": {},
   "source": [
    "## Bonus Challenge\n",
    "Create a bar graph that compares the average brain to body mass ratios for each animal type:"
   ]
  },
  {
   "cell_type": "code",
   "execution_count": 66,
   "metadata": {},
   "outputs": [
    {
     "data": {
      "image/png": "[encoded data removed]",
      "text/plain": [
       "<Figure size 432x288 with 1 Axes>"
      ]
     },
     "metadata": {
      "needs_background": "light"
     },
     "output_type": "display_data"
    }
   ],
   "source": [
    "plt.bar([1,2,3,4,5], [amp_ratio, rep_ratio, mam_ratio, fish_ratio, bird_ratio], color = [\"green\",\"red\",\"magenta\", \"blue\",\"yellow\"])\n",
    "plt.xticks([1,2,3,4,5], [\"Amphibian Ratio\", \"Reptile Ratio\", \"Mammal Ratio\", \"Fish Ratio\", \"Bird Ratio\"])\n",
    "plt.ylabel(\"Mass (g)\")\n",
    "plt.title(\"Average Brain to Body Ratio\")\n",
    "plt.show()"
   ]
  },
  {
   "cell_type": "code",
   "execution_count": null,
   "metadata": {},
   "outputs": [],
   "source": []
  }
 ],
 "metadata": {
  "kernelspec": {
   "display_name": "Python 3",
   "language": "python",
   "name": "python3"
  },
  "language_info": {
   "codemirror_mode": {
    "name": "ipython",
    "version": 3
   },
   "file_extension": ".py",
   "mimetype": "text/x-python",
   "name": "python",
   "nbconvert_exporter": "python",
   "pygments_lexer": "ipython3",
   "version": "3.7.3"
  }
 },
 "nbformat": 4,
 "nbformat_minor": 2
}
