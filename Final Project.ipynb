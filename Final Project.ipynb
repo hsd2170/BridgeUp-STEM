{
 "cells": [
  {
   "cell_type": "code",
   "execution_count": 2,
   "metadata": {},
   "outputs": [],
   "source": [
    "from astrodbkit import astrodb"
   ]
  },
  {
   "cell_type": "code",
   "execution_count": 3,
   "metadata": {},
   "outputs": [
    {
     "name": "stdout",
     "output_type": "stream",
     "text": [
      "Database ready for use\n"
     ]
    }
   ],
   "source": [
    "db = astrodb.Database(\"bdnycdev1.db\")"
   ]
  },
  {
   "cell_type": "code",
   "execution_count": 4,
   "metadata": {},
   "outputs": [
    {
     "name": "stdout",
     "output_type": "stream",
     "text": [
      "\n",
      "Database path: bdnycdev1.db \n",
      "SQL path: bdnycdev1.sql\n",
      "\n",
      "Database Inventory\n",
      "==================\n",
      "SOURCES: 1938\n",
      "CHANGELOG: 205\n",
      "DATA_REQUESTS: 27\n",
      "IGNORE: 122\n",
      "INSTRUMENTS: 54\n",
      "MODES: 7\n",
      "PARALLAXES: 436\n",
      "PHOTOMETRY: 10358\n",
      "PROPER_MOTIONS: 599\n",
      "PUBLICATIONS: 607\n",
      "RADIAL_VELOCITIES: 143\n",
      "SPECTRA: 3614\n",
      "SPECTRAL_TYPES: 1511\n",
      "SYSTEMS: 15\n",
      "TELESCOPES: 38\n",
      "VERSIONS: 2\n"
     ]
    }
   ],
   "source": [
    "db.info()"
   ]
  },
  {
   "cell_type": "code",
   "execution_count": 6,
   "metadata": {},
   "outputs": [
    {
     "name": "stdout",
     "output_type": "stream",
     "text": [
      "\n",
      "The astrodb.Database class, hereafter db, provides a variety of methods to interact with a SQLite database file.\n",
      "Docstrings are available for all methods and can be accessed in the usual manner; eg, help(db.query).\n",
      "We list a few key methods below.\n",
      "\n",
      "    Methods to explore the database:\n",
      "    * db.query() - send SELECT commands to the database. Returns results in a variety of formats\n",
      "    * db.info() - get a quick summary of the contents of the database\n",
      "    * db.schema() - quickly examine the columns, types, etc of a specified table\n",
      "    * db.search() - search through a table to find entries matching the criteria\n",
      "    * db.inventory() - search for all entries that match the specified source_id\n",
      "    * db.references() - search for all entries in all tables matching the criteria. Useful for publications\n",
      "\n",
      "    Methods to modify the database:\n",
      "    * db.add_data() - add data to an existing table, either by providing a file or by providing the data itself\n",
      "    * db.table() - create or modify tables in the database\n",
      "    * db.modify() - send more general SQL commands to the database\n",
      "    * db.save() - export a copy of the database in ascii format, which can then be re-populated by astrodb.Database\n",
      "\n",
      "The full documentation can be found online at: http://astrodbkit.readthedocs.io/en/latest/index.html\n",
      "        \n"
     ]
    }
   ],
   "source": [
    "db.help()"
   ]
  },
  {
   "cell_type": "code",
   "execution_count": 7,
   "metadata": {},
   "outputs": [
    {
     "data": {
      "text/html": [
       "<div>\n",
       "<style scoped>\n",
       "    .dataframe tbody tr th:only-of-type {\n",
       "        vertical-align: middle;\n",
       "    }\n",
       "\n",
       "    .dataframe tbody tr th {\n",
       "        vertical-align: top;\n",
       "    }\n",
       "\n",
       "    .dataframe thead th {\n",
       "        text-align: right;\n",
       "    }\n",
       "</style>\n",
       "<table border=\"1\" class=\"dataframe\">\n",
       "  <thead>\n",
       "    <tr style=\"text-align: right;\">\n",
       "      <th></th>\n",
       "      <th>comments</th>\n",
       "      <th>companions</th>\n",
       "      <th>components</th>\n",
       "      <th>dec</th>\n",
       "      <th>designation</th>\n",
       "      <th>id</th>\n",
       "      <th>names</th>\n",
       "      <th>publication_shortname</th>\n",
       "      <th>ra</th>\n",
       "      <th>shortname</th>\n",
       "      <th>unum</th>\n",
       "      <th>version</th>\n",
       "    </tr>\n",
       "  </thead>\n",
       "  <tbody>\n",
       "    <tr>\n",
       "      <th>0</th>\n",
       "      <td></td>\n",
       "      <td>None</td>\n",
       "      <td>None</td>\n",
       "      <td>18.333275</td>\n",
       "      <td>SDSS J16585026+1820006</td>\n",
       "      <td>1</td>\n",
       "      <td>SDSS J16585026+1820006</td>\n",
       "      <td>West08</td>\n",
       "      <td>254.709737</td>\n",
       "      <td>1658+1820</td>\n",
       "      <td>U51440</td>\n",
       "      <td>2.0</td>\n",
       "    </tr>\n",
       "    <tr>\n",
       "      <th>1</th>\n",
       "      <td></td>\n",
       "      <td>None</td>\n",
       "      <td>None</td>\n",
       "      <td>-1.280556</td>\n",
       "      <td>2MASS J13314894-0116500</td>\n",
       "      <td>2</td>\n",
       "      <td>SDSS J133148.92-011651.4, 2MASS J13314894-0116500</td>\n",
       "      <td>Hawl02</td>\n",
       "      <td>202.953870</td>\n",
       "      <td>1331-0116</td>\n",
       "      <td>U50174</td>\n",
       "      <td>2.0</td>\n",
       "    </tr>\n",
       "    <tr>\n",
       "      <th>2</th>\n",
       "      <td>None</td>\n",
       "      <td>None</td>\n",
       "      <td>1619,1620</td>\n",
       "      <td>-4.105361</td>\n",
       "      <td>2MASS J23310161-0406193</td>\n",
       "      <td>3</td>\n",
       "      <td>2MASS J23310161-0406193</td>\n",
       "      <td>Gizi00</td>\n",
       "      <td>352.756710</td>\n",
       "      <td>2331-0406</td>\n",
       "      <td>U12191</td>\n",
       "      <td>2.0</td>\n",
       "    </tr>\n",
       "    <tr>\n",
       "      <th>3</th>\n",
       "      <td>None</td>\n",
       "      <td>None</td>\n",
       "      <td>None</td>\n",
       "      <td>10.533056</td>\n",
       "      <td>2MASS J14482563+1031590</td>\n",
       "      <td>4</td>\n",
       "      <td>2MASS J14482563+1031590, 2MASSW J1448256+10315...</td>\n",
       "      <td>Wils03b</td>\n",
       "      <td>222.106791</td>\n",
       "      <td>1448+1031</td>\n",
       "      <td>U20587</td>\n",
       "      <td>1.0</td>\n",
       "    </tr>\n",
       "    <tr>\n",
       "      <th>4</th>\n",
       "      <td>None</td>\n",
       "      <td>None</td>\n",
       "      <td>None</td>\n",
       "      <td>3.281762</td>\n",
       "      <td>2MASS J14432796+0316543</td>\n",
       "      <td>5</td>\n",
       "      <td>LSPM J1443+0316</td>\n",
       "      <td>LSPM-N</td>\n",
       "      <td>220.866530</td>\n",
       "      <td>1443+0316</td>\n",
       "      <td>U20585</td>\n",
       "      <td>2.0</td>\n",
       "    </tr>\n",
       "  </tbody>\n",
       "</table>\n",
       "</div>"
      ],
      "text/plain": [
       "  comments companions components        dec              designation  id  \\\n",
       "0                None       None  18.333275   SDSS J16585026+1820006   1   \n",
       "1                None       None  -1.280556  2MASS J13314894-0116500   2   \n",
       "2     None       None  1619,1620  -4.105361  2MASS J23310161-0406193   3   \n",
       "3     None       None       None  10.533056  2MASS J14482563+1031590   4   \n",
       "4     None       None       None   3.281762  2MASS J14432796+0316543   5   \n",
       "\n",
       "                                               names publication_shortname  \\\n",
       "0                             SDSS J16585026+1820006                West08   \n",
       "1  SDSS J133148.92-011651.4, 2MASS J13314894-0116500                Hawl02   \n",
       "2                            2MASS J23310161-0406193                Gizi00   \n",
       "3  2MASS J14482563+1031590, 2MASSW J1448256+10315...               Wils03b   \n",
       "4                                    LSPM J1443+0316                LSPM-N   \n",
       "\n",
       "           ra  shortname    unum  version  \n",
       "0  254.709737  1658+1820  U51440      2.0  \n",
       "1  202.953870  1331-0116  U50174      2.0  \n",
       "2  352.756710  2331-0406  U12191      2.0  \n",
       "3  222.106791  1448+1031  U20587      1.0  \n",
       "4  220.866530  1443+0316  U20585      2.0  "
      ]
     },
     "execution_count": 7,
     "metadata": {},
     "output_type": "execute_result"
    }
   ],
   "source": [
    "db.query(\"SELECT * FROM sources LIMIT 5\", fmt = \"pandas\")"
   ]
  },
  {
   "cell_type": "code",
   "execution_count": 8,
   "metadata": {},
   "outputs": [
    {
     "name": "stdout",
     "output_type": "stream",
     "text": [
      "WARNING: Unable to use converters\n"
     ]
    }
   ],
   "source": [
    "NIR_spectraltype = db.query(\"select sources.id as source_id, shortname, spectral_type, ra, dec from sources join spectral_types on sources.id=spectral_types.source_id where regime='NIR' order by source_id\", fmt=\"pandas\")"
   ]
  },
  {
   "cell_type": "code",
   "execution_count": 9,
   "metadata": {},
   "outputs": [
    {
     "name": "stdout",
     "output_type": "stream",
     "text": [
      "WARNING: Unable to use converters\n",
      "WARNING: Unable to use converters\n"
     ]
    }
   ],
   "source": [
    "OPT_spectraltype = db.query(\"select sources.id as source_id, shortname, spectral_type, ra, dec from sources join spectral_types on sources.id=spectral_types.source_id where regime='OPT' order by source_id\", fmt=\"pandas\")\n",
    "IR_spectraltype = db.query(\"select sources.id as source_id, shortname, spectral_type, ra, dec from sources join spectral_types on sources.id=spectral_types.source_id where regime='IR' order by source_id\", fmt=\"pandas\")"
   ]
  },
  {
   "cell_type": "code",
   "execution_count": 10,
   "metadata": {},
   "outputs": [
    {
     "data": {
      "text/plain": [
       "503"
      ]
     },
     "execution_count": 10,
     "metadata": {},
     "output_type": "execute_result"
    }
   ],
   "source": [
    "len(IR_spectraltype)"
   ]
  },
  {
   "cell_type": "code",
   "execution_count": 11,
   "metadata": {},
   "outputs": [
    {
     "data": {
      "text/plain": [
       "483"
      ]
     },
     "execution_count": 11,
     "metadata": {},
     "output_type": "execute_result"
    }
   ],
   "source": [
    "len(OPT_spectraltype)"
   ]
  },
  {
   "cell_type": "code",
   "execution_count": 12,
   "metadata": {},
   "outputs": [
    {
     "data": {
      "text/plain": [
       "17"
      ]
     },
     "execution_count": 12,
     "metadata": {},
     "output_type": "execute_result"
    }
   ],
   "source": [
    "len(NIR_spectraltype)"
   ]
  },
  {
   "cell_type": "code",
   "execution_count": 13,
   "metadata": {},
   "outputs": [],
   "source": [
    "import matplotlib.pyplot as plt\n",
    "import"
   ]
  },
  {
   "cell_type": "code",
   "execution_count": 65,
   "metadata": {},
   "outputs": [
    {
     "data": {
      "image/png": "[encoded data removed]",
      "text/plain": [
       "<Figure size 432x288 with 1 Axes>"
      ]
     },
     "metadata": {
      "needs_background": "light"
     },
     "output_type": "display_data"
    }
   ],
   "source": [
    "plt.hist(NIR_spectraltype[\"spectral_type\"], 35)\n",
    "plt.title((\"Near Infared Spectral Type\"))\n",
    "plt.xlabel(\"L, Y, T\")\n",
    "plt.ylabel(\"Number of Brown Dwarfs\")\n",
    "plt.show()"
   ]
  },
  {
   "cell_type": "code",
   "execution_count": 33,
   "metadata": {},
   "outputs": [
    {
     "data": {
      "image/png": "[encoded data removed]",
      "text/plain": [
       "<Figure size 432x288 with 1 Axes>"
      ]
     },
     "metadata": {
      "needs_background": "light"
     },
     "output_type": "display_data"
    }
   ],
   "source": [
    "plt.hist(IR_spectraltype[\"spectral_type\"], 30)\n",
    "plt.title((\"Infared Spectral Type\"))\n",
    "plt.xlabel(\"L, Y, T\")\n",
    "plt.ylabel(\"Number of Brown Dwarfs\")\n",
    "plt.show()"
   ]
  },
  {
   "cell_type": "code",
   "execution_count": 32,
   "metadata": {},
   "outputs": [
    {
     "data": {
      "image/png": "[encoded data removed]",
      "text/plain": [
       "<Figure size 432x288 with 1 Axes>"
      ]
     },
     "metadata": {
      "needs_background": "light"
     },
     "output_type": "display_data"
    }
   ],
   "source": [
    "plt.hist(OPT_spectraltype[\"spectral_type\"], 15)\n",
    "plt.title((\"Optical Spectral Type\"))\n",
    "plt.xlabel(\"L, Y, T\")\n",
    "plt.ylabel(\"Number of Brown Dwarfs\")\n",
    "plt.show()"
   ]
  },
  {
   "cell_type": "code",
   "execution_count": 54,
   "metadata": {},
   "outputs": [
    {
     "name": "stdout",
     "output_type": "stream",
     "text": [
      "L7+L8 cannot be converted\n"
     ]
    }
   ],
   "source": [
    "\n",
    "#SQUASH DIS BUG!: complete this code to convert our strings into floats (aka decimals)\n",
    "nIR_spectraltypes = []\n",
    "for i in IR_spectraltype['spectral_type']:\n",
    "    try:\n",
    "        correct_values = float(i)\n",
    "        nIR_spectraltypes.append(correct_values)\n",
    "    except ValueError:\n",
    "        print(i , 'cannot be converted')\n",
    "\n"
   ]
  },
  {
   "cell_type": "code",
   "execution_count": 56,
   "metadata": {},
   "outputs": [
    {
     "data": {
      "text/plain": [
       "502"
      ]
     },
     "execution_count": 56,
     "metadata": {},
     "output_type": "execute_result"
    }
   ],
   "source": [
    "len(nIR_spectraltypes)"
   ]
  },
  {
   "cell_type": "code",
   "execution_count": 57,
   "metadata": {},
   "outputs": [
    {
     "name": "stdout",
     "output_type": "stream",
     "text": [
      "L1-L4 cannot be converted\n",
      "0355-type cannot be converted\n"
     ]
    }
   ],
   "source": [
    "nOPT_spectraltypes = []\n",
    "for i in OPT_spectraltype['spectral_type']:\n",
    "    try:\n",
    "        correct_values = float(i)\n",
    "        nOPT_spectraltypes.append(correct_values)\n",
    "    except ValueError:\n",
    "        print(i , 'cannot be converted')"
   ]
  },
  {
   "cell_type": "code",
   "execution_count": 60,
   "metadata": {},
   "outputs": [
    {
     "data": {
      "text/plain": [
       "481"
      ]
     },
     "execution_count": 60,
     "metadata": {},
     "output_type": "execute_result"
    }
   ],
   "source": [
    "len(nOPT_spectraltypes)"
   ]
  },
  {
   "cell_type": "code",
   "execution_count": 112,
   "metadata": {},
   "outputs": [
    {
     "data": {
      "image/png": "[encoded data removed]",
      "text/plain": [
       "<Figure size 432x288 with 1 Axes>"
      ]
     },
     "metadata": {
      "needs_background": "light"
     },
     "output_type": "display_data"
    }
   ],
   "source": [
    "plt.title(\"Infrared Brown Dwarves\")\n",
    "plt.ylabel(\"Number of Brown Dwarves\")\n",
    "plt.xlabel(\"Spectral Types (Infrared)\")\n",
    "plt.xticks(range(-4, 40, 2))\n",
    "cm = plt.cm.get_cmap('coolwarm_r')\n",
    "\n",
    "# Plot histogram.\n",
    "n, bins, patches = plt.hist(nIR_spectraltypes, 3)\n",
    "bin_centers = 0.5 * (bins[:-1] + bins[1:])\n",
    "\n",
    "# scale values to interval [0,1]\n",
    "col = bin_centers - min(bin_centers)\n",
    "col /= max(col)\n",
    "\n",
    "for c, p in zip(col, patches):\n",
    "   plt.setp(p, 'facecolor', cm(c))\n",
    "plt.show()"
   ]
  },
  {
   "cell_type": "code",
   "execution_count": 99,
   "metadata": {},
   "outputs": [
    {
     "data": {
      "image/png": "[encoded data removed]",
      "text/plain": [
       "<Figure size 432x288 with 1 Axes>"
      ]
     },
     "metadata": {
      "needs_background": "light"
     },
     "output_type": "display_data"
    }
   ],
   "source": [
    "\"Near Optical Brown Dwarves\"\n",
    "plt.ylabel(\"Number of Brown Dwarves\")\n",
    "plt.xlabel(\"Spectral Types (Optical)\")\n",
    "plt.xticks(range(5, 30, 2))\n",
    "cm = plt.cm.get_cmap('coolwarm_r')\n",
    "\n",
    "# Plot histogram.\n",
    "n, bins, patches = plt.hist(nOPT_spectraltypes, 35)\n",
    "bin_centers = 0.5 * (bins[:-1] + bins[1:])\n",
    "\n",
    "# scale values to interval [0,1]\n",
    "col = bin_centers - min(bin_centers)\n",
    "col /= max(col)\n",
    "\n",
    "for c, p in zip(col, patches):\n",
    "   plt.setp(p, 'facecolor', cm(c))\n",
    "plt.show() \n",
    "\n",
    "#can see more hotter stars because hotter objects peak in visible light --> normal stars"
   ]
  },
  {
   "cell_type": "code",
   "execution_count": 90,
   "metadata": {},
   "outputs": [
    {
     "data": {
      "image/png": "[encoded data removed]",
      "text/plain": [
       "<Figure size 432x288 with 1 Axes>"
      ]
     },
     "metadata": {
      "needs_background": "light"
     },
     "output_type": "display_data"
    }
   ],
   "source": [
    "# hasn't changed\n",
    "\n",
    "plt.hist(nOPT_spectraltypes, 35, color = [\"pink\"])\n",
    "plt.xlabel(\"Optical Spectral Types\")\n",
    "plt.xticks(range(5, 30, 2))\n",
    "plt.ylabel(\"Number of Brown Dwarfs\")\n",
    "plt.show()"
   ]
  },
  {
   "cell_type": "code",
   "execution_count": null,
   "metadata": {},
   "outputs": [],
   "source": []
  }
 ],
 "metadata": {
  "kernelspec": {
   "display_name": "Python 3",
   "language": "python",
   "name": "python3"
  },
  "language_info": {
   "codemirror_mode": {
    "name": "ipython",
    "version": 3
   },
   "file_extension": ".py",
   "mimetype": "text/x-python",
   "name": "python",
   "nbconvert_exporter": "python",
   "pygments_lexer": "ipython3",
   "version": "3.7.3"
  }
 },
 "nbformat": 4,
 "nbformat_minor": 2
}
